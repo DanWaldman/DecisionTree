{
 "cells": [
  {
   "cell_type": "markdown",
   "metadata": {
    "nbgrader": {
     "grade": false,
     "grade_id": "cell-6bd0516e7cb654f5",
     "locked": true,
     "schema_version": 1,
     "solution": false
    }
   },
   "source": [
    "# Decision Trees\n",
    "\n",
    "## In this notebook you will see the following:\n",
    "1. Implementation of two impurity measures: Gini and Entropy.\n",
    "1. Construction of a decision tree algorithm.\n",
    "1. Pruning of the tree to achieve better results.\n",
    "1. Visualizing of the results."
   ]
  },
  {
   "cell_type": "code",
   "execution_count": 2,
   "metadata": {
    "nbgrader": {
     "grade": false,
     "grade_id": "cell-ed9fe7b1026e33cb",
     "locked": true,
     "schema_version": 1,
     "solution": false
    }
   },
   "outputs": [],
   "source": [
    "import numpy as np\n",
    "import pandas as pd\n",
    "import matplotlib.pyplot as plt\n",
    "\n",
    "# make matplotlib figures appear inline in the notebook\n",
    "%matplotlib inline\n",
    "plt.rcParams['figure.figsize'] = (10.0, 8.0) # set default size of plots\n",
    "plt.rcParams['image.interpolation'] = 'nearest'\n",
    "plt.rcParams['image.cmap'] = 'gray'\n",
    "\n",
    "# Ignore warnings\n",
    "import warnings\n",
    "warnings.filterwarnings('ignore')"
   ]
  },
  {
   "cell_type": "markdown",
   "metadata": {
    "nbgrader": {
     "grade": false,
     "grade_id": "cell-2f1ceb251c649b62",
     "locked": true,
     "schema_version": 1,
     "solution": false
    }
   },
   "source": [
    "## Data preprocessing\n",
    "\n",
    "For the following exercise, we will use a dataset containing mushroom data `agaricus-lepiota.csv`. \n",
    "\n",
    "This data set includes descriptions of hypothetical samples corresponding to 23 species of gilled mushrooms in the Agaricus and Lepiota Family. Each species is identified as definitely edible, definitely poisonous, or of unknown edibility and not recommended. This latter class was combined with the poisonous\n",
    "one (=there are only two classes **edible** and **poisonous**). \n",
    "    \n",
    "The dataset contains 8124 observations with 22 features:\n",
    "1. cap-shape: bell=b,conical=c,convex=x,flat=f,knobbed=k,sunken=s\n",
    "2. cap-surface: fibrous=f,grooves=g,scaly=y,smooth=s\n",
    "3. cap-color: brown=n,buff=b,cinnamon=c,gray=g,green=r,pink=p,purple=u,red=e,white=w,yellow=y\n",
    "4. bruises: bruises=t,no=f\n",
    "5. odor: almond=a,anise=l,creosote=c,fishy=y,foul=f, musty=m,none=n,pungent=p,spicy=s\n",
    "6. gill-attachment: attached=a,descending=d,free=f,notched=n\n",
    "7. gill-spacing: close=c,crowded=w,distant=d\n",
    "8. gill-size: broad=b,narrow=n\n",
    "9. gill-color: black=k,brown=n,buff=b,chocolate=h,gray=g,green=r,orange=o,pink=p,purple=u,red=e,white=w,yellow=y\n",
    "10. stalk-shape: enlarging=e,tapering=t\n",
    "11. stalk-root: bulbous=b,club=c,cup=u,equal=e,rhizomorphs=z,rooted=r\n",
    "12. stalk-surface-above-ring: fibrous=f,scaly=y,silky=k,smooth=s\n",
    "13. stalk-surface-below-ring: fibrous=f,scaly=y,silky=k,smooth=s\n",
    "14. stalk-color-above-ring: brown=n,buff=b,cinnamon=c,gray=g,orange=o,pink=p,red=e,white=w,yellow=y\n",
    "15. stalk-color-below-ring: brown=n,buff=b,cinnamon=c,gray=g,orange=o,pink=p,red=e,white=w,yellow=y\n",
    "16. veil-type: partial=p,universal=u\n",
    "17. veil-color: brown=n,orange=o,white=w,yellow=y\n",
    "18. ring-number: none=n,one=o,two=t\n",
    "19. ring-type: cobwebby=c,evanescent=e,flaring=f,large=l,none=n,pendant=p,sheathing=s,zone=z\n",
    "20. spore-print-color: black=k,brown=n,buff=b,chocolate=h,green=r,orange=o,purple=u,white=w,yellow=y\n",
    "21. population: abundant=a,clustered=c,numerous=n,scattered=s,several=v,solitary=y\n",
    "22. habitat: grasses=g,leaves=l,meadows=m,paths=p,urban=u,waste=w,woods=d\n",
    "\n",
    "First, we will read and explore the data using pandas and the `.read_csv` method. Pandas is an open source library providing high-performance, easy-to-use data structures and data analysis tools for the Python programming language."
   ]
  },
  {
   "cell_type": "code",
   "execution_count": 3,
   "metadata": {
    "nbgrader": {
     "grade": false,
     "grade_id": "cell-d79cb4542926ad3f",
     "locked": true,
     "schema_version": 1,
     "solution": false
    }
   },
   "outputs": [],
   "source": [
    "# load dataset\n",
    "data = pd.read_csv('agaricus-lepiota.csv')"
   ]
  },
  {
   "cell_type": "markdown",
   "metadata": {},
   "source": [
    "One of the advantages of the Decision Tree algorithm is that almost no preprocessing is required. However, finding missing values is always required."
   ]
  },
  {
   "cell_type": "code",
   "execution_count": 4,
   "metadata": {},
   "outputs": [],
   "source": [
    "data = data.dropna(axis= 1)"
   ]
  },
  {
   "cell_type": "markdown",
   "metadata": {},
   "source": [
    "After removing stalk-root from dictionary, all information is valid. Stalk-root dosen't exist in the data"
   ]
  },
  {
   "cell_type": "markdown",
   "metadata": {},
   "source": [
    "We will split the dataset to `Training` and `Testing` datasets."
   ]
  },
  {
   "cell_type": "code",
   "execution_count": 5,
   "metadata": {},
   "outputs": [
    {
     "name": "stdout",
     "output_type": "stream",
     "text": [
      "Training dataset shape:  (6093, 22)\n",
      "Testing dataset shape:  (2031, 22)\n"
     ]
    }
   ],
   "source": [
    "from sklearn.model_selection import train_test_split\n",
    "# Making sure the last column will hold the labels\n",
    "X, y = data.drop('class', axis=1), data['class']\n",
    "X = np.column_stack([X,y])\n",
    "# split dataset using random_state to get the same split each time\n",
    "X_train, X_test = train_test_split(X, random_state=99)\n",
    "\n",
    "print(\"Training dataset shape: \", X_train.shape)\n",
    "print(\"Testing dataset shape: \", X_test.shape)"
   ]
  },
  {
   "cell_type": "code",
   "execution_count": 6,
   "metadata": {},
   "outputs": [
    {
     "data": {
      "text/plain": [
       "(8124,)"
      ]
     },
     "execution_count": 6,
     "metadata": {},
     "output_type": "execute_result"
    }
   ],
   "source": [
    "y.shape"
   ]
  },
  {
   "cell_type": "markdown",
   "metadata": {
    "nbgrader": {
     "grade": false,
     "grade_id": "cell-fd7b0191f3f1e897",
     "locked": true,
     "schema_version": 1,
     "solution": false
    }
   },
   "source": [
    "## Impurity Measures\n",
    "\n",
    "Impurity is a measure of how often a randomly chosen element from the set would be incorrectly labeled if it was randomly labeled according to the distribution of labels in the subset. Implement the functions `calc_gini` and `calc_entropy`. You are encouraged to test your implementation (10 points)."
   ]
  },
  {
   "cell_type": "code",
   "execution_count": 7,
   "metadata": {},
   "outputs": [],
   "source": [
    "def calc_gini(data):\n",
    "    \"\"\"\n",
    "    Calculate gini impurity measure of a dataset.\n",
    " \n",
    "    Input:\n",
    "    - data: any dataset where the last column holds the labels.\n",
    " \n",
    "    Returns the gini impurity.    \n",
    "    gini = 1 - sum()\n",
    "    \"\"\"\n",
    "    gini = 0.0\n",
    "    label = data[:, -1]               # get all labels from the matrix\n",
    "    poisonous = np.sum(label == 'p')  # number of poisonous labels \n",
    "    edible = np.sum(label == 'e')     # number of edible labels \n",
    "    all_labels = poisonous + edible   # number of all labels\n",
    "    gini = 1 - (((poisonous / all_labels) ** 2) + ((edible / all_labels) ** 2)) # gini index according to formula\n",
    "    return gini"
   ]
  },
  {
   "cell_type": "code",
   "execution_count": 8,
   "metadata": {},
   "outputs": [],
   "source": [
    "def calc_entropy(data):\n",
    "    \"\"\"\n",
    "    Calculate the entropy of a dataset.\n",
    "\n",
    "    Input:\n",
    "    - data: any dataset where the last column holds the labels.\n",
    "\n",
    "    Returns the entropy of the dataset.    \n",
    "    \"\"\"\n",
    "    entropy = 0.0\n",
    "    label = data[:, -1]               # get all labels from the matrix\n",
    "    poisonous = np.sum(label == 'p')  # number of poisonous labels \n",
    "    edible = np.sum(label == 'e')     # number of edible labels \n",
    "    all_labels = poisonous + edible   # number of all labels \n",
    "    if(poisonous == 0 or edible == 0):\n",
    "        return 0;\n",
    "    entropy = -((poisonous / all_labels) * np.log2(poisonous / all_labels) \n",
    "                + (edible / all_labels) * np.log2(edible / all_labels))   # entropy calculation according to formula \n",
    "    return entropy"
   ]
  },
  {
   "cell_type": "code",
   "execution_count": 9,
   "metadata": {
    "scrolled": false
   },
   "outputs": [
    {
     "data": {
      "text/plain": [
       "(0.4995636322379775, 0.9993703627906085)"
      ]
     },
     "execution_count": 9,
     "metadata": {},
     "output_type": "execute_result"
    }
   ],
   "source": [
    "calc_gini(X), calc_entropy(X)"
   ]
  },
  {
   "cell_type": "markdown",
   "metadata": {},
   "source": [
    "## Goodness of Split\n",
    "\n",
    "Given a feature the Goodnees of Split measures the reduction in the impurity if we split the data according to the feature.\n",
    "$$\n",
    "\\Delta\\varphi(S, A) = \\varphi(S) - \\sum_{v\\in Values(A)} \\frac{|S_v|}{|S|}\\varphi(S_v)\n",
    "$$\n",
    "\n",
    "In our implementation the goodness_of_split function will return either the Goodness of Split or the Gain Ratio. we'll control the return value with the `gain_ratio` parameter. If this parameter will set to False (the default value) it will return the regular Goodness of Split. If it will set to True it will return the Gain Ratio.\n",
    "$$\n",
    "GainRatio(S,A)=\\frac{InformationGain(S,A)}{SplitInformation(S,A)}\n",
    "$$\n",
    "Where:\n",
    "$$\n",
    "InformationGain(S,A)=Goodness\\ of\\ Split\\ calculated\\ with\\ Entropy\\ as\\ the\\ Impurity\\ function \\\\\n",
    "SplitInformation(S,A)=- \\sum_{a\\in A} \\frac{|S_a|}{|S|}\\log\\frac{|S_a|}{|S|}\n",
    "$$\n",
    "NOTE: you can add more parameters to the function and you can also add more returning variables (The given parameters and the given returning variable should not be touch). (10 Points)"
   ]
  },
  {
   "cell_type": "code",
   "execution_count": 10,
   "metadata": {},
   "outputs": [],
   "source": [
    "def goodness_of_split(data, feature, impurity_func, gain_ratio=False):\n",
    "    \"\"\"\n",
    "    Calculate the goodness of split of a dataset given a feature and impurity function.\n",
    "\n",
    "    Input:\n",
    "    - data: any dataset where the last column holds the labels.\n",
    "    - feature: the feature index.\n",
    "    - impurity func: a function that calculates the impurity.\n",
    "    - gain_ratio: goodness of split or gain ratio flag.\n",
    "\n",
    "    Returns the goodness of split (or the Gain Ration).  \n",
    "    \"\"\"\n",
    "    if gain_ratio: \n",
    "        impurity_func = calc_entropy \n",
    "    split_information = 0                 # split information initialized to 0\n",
    "    impurity_feature = 0                  # impurity feature initialized to 0\n",
    "    impurity_total = impurity_func(data)  # impurity before split\n",
    "    feature_attribute = np.unique(data[:,feature])  # get a list of all chars associated with feature\n",
    "    amount_instances = data.shape[0]      # get amount of instances in the data\n",
    "    for letter in (feature_attribute):          # iterate letters associated with feature\n",
    "        temp_array = data[data[ :,feature] == letter]  # making array from all instances that fit letter in this feature\n",
    "        split_information -= ((temp_array.shape[0]) / (amount_instances)) * np.log2((temp_array.shape[0]) / (amount_instances))  # calculate split information according to formula \n",
    "        impurity_feature += (impurity_func(temp_array)) * ((temp_array.shape[0]) / (amount_instances))     # calculate impurity of feature according to formula \n",
    "    goodness = impurity_total - impurity_feature       # calculating goodness according to formula \n",
    "        \n",
    "    if gain_ratio:                                   # if bool is asking for  Gain Ratio\n",
    "         goodness = goodness / split_information     # calculate goodness as *gain ratio* according to formula\n",
    "    return goodness  "
   ]
  },
  {
   "cell_type": "code",
   "execution_count": 11,
   "metadata": {},
   "outputs": [
    {
     "data": {
      "text/plain": [
       "0.2156152000173082"
      ]
     },
     "execution_count": 11,
     "metadata": {},
     "output_type": "execute_result"
    }
   ],
   "source": [
    "goodness_of_split(X_train, 4, calc_entropy, gain_ratio=True)"
   ]
  },
  {
   "cell_type": "markdown",
   "metadata": {},
   "source": [
    "## Building a Decision Tree\n",
    "\n",
    "We will use a Python class to construct the decision tree. Our class will support the following functionality:\n",
    "\n",
    "1. Initiating a node for a decision tree. We will need to use several class methods and class attributes.\n",
    "2. Our code should support both Gini and Entropy as impurity measures. \n",
    "3. The provided data includes categorical data. In this notebook, when splitting a node, we will create the number of children needed according to the attribute unique values."
   ]
  },
  {
   "cell_type": "code",
   "execution_count": 12,
   "metadata": {},
   "outputs": [],
   "source": [
    "class DecisionNode:\n",
    "    \"\"\"\n",
    "    This class will hold everything you require to construct a decision tree.\n",
    "    The structure of this class is up to you. However, you need to support basic \n",
    "    functionality as described above. It is highly recommended that you \n",
    "    first read and understand the entire exercise before diving into this class.\n",
    "    \"\"\"\n",
    "    def __init__(self, feature):\n",
    "        self.feature = feature # column index of criteria being tested\n",
    "        self.children = {}     # dictionary for child nodes\n",
    "        self.pred = -1         # prediction value\n",
    "        self.count_pred = 0    # amount of poisonous labels with this feature \n",
    "        self.count_not_pred = 0  # amount of edible labels with this feature \n",
    "        \n",
    "    def add_child(self, attribute, node): # fucntion for adding child node\n",
    "        self.children[attribute] = node\n",
    "        \n",
    "    def update_prediction(self, pred, count_pred ,count_not_pred): # function for updating prediction\n",
    "        self.pred = pred\n",
    "        self.count_pred = count_pred\n",
    "        self.count_not_pred = count_not_pred"
   ]
  },
  {
   "cell_type": "code",
   "execution_count": 13,
   "metadata": {},
   "outputs": [],
   "source": [
    "def build_tree(data, impurity, gain_ratio=False, min_samples_split=1, max_depth=1000):\n",
    "    \"\"\"\n",
    "    Build a tree using the given impurity measure and training dataset. \n",
    "    You are required to fully grow the tree until all leaves are pure. \n",
    "\n",
    "    Input:\n",
    "    - data: the training dataset.\n",
    "    - impurity: the chosen impurity measure. Notice that you can send a function\n",
    "                as an argument in python.\n",
    "    - gain_ratio: goodness of split or gain ratio flag\n",
    "    - min_samples_split: the minimum number of samples required to split an internal node\n",
    "    - max_depth: the allowable depth of the tree\n",
    "\n",
    "    Output: the root node of the tree.\n",
    "    \"\"\"\n",
    "    root = None \n",
    "    root_feature, root_feature_attributes = find_best_feature(data, impurity, gain_ratio)  # finding best feature for root\n",
    "    root = DecisionNode(root_feature) \n",
    "    pred, count_pred, count_not_pred = find_prediction(data)                               # finding root's prediction\n",
    "    root.update_prediction(pred,count_pred, count_not_pred) \n",
    "    create_children(data, impurity, root, root_feature_attributes, gain_ratio, min_samples_split, max_depth) # creating children \n",
    "    return root"
   ]
  },
  {
   "cell_type": "code",
   "execution_count": 14,
   "metadata": {},
   "outputs": [],
   "source": [
    "def find_best_feature(data, impurity, gain_ratio=False):\n",
    "    max_gain = -1    # for saving maximum gain from splitting with feature\n",
    "    best_feature_index = -1    # for saving index of best feature for splitting\n",
    "    best_feature_attributes = [] # for saving the amount of branches created by feature \n",
    "    data_copy = data.copy()   # a copy of data\n",
    "    data_copy_t = data_copy.T[:-1,:]\n",
    "    for index_feature, feature in enumerate(data_copy_t):  # iterating all features (columns)\n",
    "        col = data[:,index_feature]\n",
    "        is_all_zero = np.all((col == 0))\n",
    "        if not is_all_zero:\n",
    "            temp_gain = goodness_of_split(data_copy, index_feature, impurity, gain_ratio)  # calculate gain from temp feature \n",
    "            if temp_gain > max_gain:  # checking if gain is maximum\n",
    "                max_gain = temp_gain  \n",
    "                best_feature_index = index_feature\n",
    "    best_feature_attributes = np.unique(data[:,best_feature_index])\n",
    "    return best_feature_index, best_feature_attributes"
   ]
  },
  {
   "cell_type": "code",
   "execution_count": 15,
   "metadata": {},
   "outputs": [],
   "source": [
    "def create_children(data, impurity, father, attributes, gain_ratio=False, min_samples_split=1, max_depth=1000):\n",
    "    if(data.shape[0] <= min_samples_split or max_depth == 0 ):  # base step \n",
    "        return\n",
    "    \n",
    "    if(impurity(data) == 0):  # base step\n",
    "        return \n",
    "    \n",
    "    data_copy = data.copy()\n",
    "    for attribute in attributes:\n",
    "        temp_data_feature = data_copy[data_copy[ :,father.feature] == attribute] # all instances with this attribute in this feature \n",
    "        temp_data_feature[:,father.feature] = np.zeros(temp_data_feature.shape[0])  # remove feature (make it zero) from all instances\n",
    "        child_feature, child_feature_attributes = find_best_feature(temp_data_feature, impurity, gain_ratio)\n",
    "        child = DecisionNode(child_feature)\n",
    "        pred,count_pred, count_not_pred = find_prediction(temp_data_feature)\n",
    "        child.update_prediction(pred,count_pred, count_not_pred)\n",
    "        create_children(temp_data_feature, impurity, child, child_feature_attributes, gain_ratio, min_samples_split, max_depth - 1)\n",
    "        father.add_child(attribute,child)"
   ]
  },
  {
   "cell_type": "code",
   "execution_count": 16,
   "metadata": {},
   "outputs": [],
   "source": [
    "def find_prediction(data):\n",
    "    label = data[:, -1]    # get all labels from the matrix\n",
    "    count_p = np.sum(label == 'p') \n",
    "    count_e = np.sum(label == 'e') \n",
    "    if   count_p >=  count_e:  # find the most frequent label in the data\n",
    "        return 'p', count_p, count_e \n",
    "    else:\n",
    "        return 'e', count_e , count_p"
   ]
  },
  {
   "cell_type": "code",
   "execution_count": 17,
   "metadata": {
    "scrolled": true
   },
   "outputs": [
    {
     "name": "stdout",
     "output_type": "stream",
     "text": [
      "<__main__.DecisionNode object at 0x000001A8131C9CA0>\n",
      "<__main__.DecisionNode object at 0x000001A818B9D100>\n",
      "<__main__.DecisionNode object at 0x000001A818CD45E0>\n"
     ]
    }
   ],
   "source": [
    "# python supports passing a function as an argument to another function.\n",
    "tree_gini = build_tree(data = X_train, impurity = calc_gini) # gini and goodness of split\n",
    "tree_entropy = build_tree(data = X_train, impurity = calc_entropy) # entropy and goodness of split\n",
    "tree_entropy_gain_ratio = build_tree(data = X_train, impurity = calc_entropy, gain_ratio = True) # entropy and gain ratio\n",
    "\n",
    "print(tree_gini)\n",
    "print(tree_entropy)\n",
    "print(tree_entropy_gain_ratio)"
   ]
  },
  {
   "cell_type": "markdown",
   "metadata": {},
   "source": [
    "## Tree evaluation\n",
    "\n",
    "Here we will implement functions `predict` and `calc_accuracy`."
   ]
  },
  {
   "cell_type": "code",
   "execution_count": 18,
   "metadata": {},
   "outputs": [],
   "source": [
    "def predict(node, instance):\n",
    "    \"\"\"\n",
    "    Predict a given instance using the decision tree\n",
    " \n",
    "    Input:\n",
    "    - root: the root of the decision tree.\n",
    "    - instance: an row vector from the dataset. Note that the last element \n",
    "                of this vector is the label of the instance.\n",
    " \n",
    "    Output: the prediction of the instance.\n",
    "    \"\"\"\n",
    "    pred = None\n",
    "    while(node.children):\n",
    "        instance_feature_value = instance[node.feature] # get instance feature value\n",
    "        pred = node.children.get(instance_feature_value,-1)\n",
    "        if ( pred != -1):\n",
    "            node = pred\n",
    "        else:\n",
    "            return node.pred\n",
    "    return node.pred"
   ]
  },
  {
   "cell_type": "code",
   "execution_count": 19,
   "metadata": {},
   "outputs": [],
   "source": [
    "def calc_accuracy(node, dataset):\n",
    "    \"\"\"\n",
    "    Predict a given dataset using the decision tree\n",
    " \n",
    "    Input:\n",
    "    - node: a node in the decision tree.\n",
    "    - dataset: the dataset on which the accuracy is evaluated\n",
    " \n",
    "    Output: the accuracy of the decision tree on the given dataset (%).\n",
    "    \"\"\"\n",
    "    accuracy = 0\n",
    "    succsess = 0\n",
    "    for row in dataset:\n",
    "        predict_value = predict(node,row)\n",
    "        if predict_value == row[-1]:\n",
    "            succsess +=1\n",
    "    accuracy = (succsess * 100) / dataset.shape[0]\n",
    "    return accuracy "
   ]
  },
  {
   "cell_type": "markdown",
   "metadata": {},
   "source": [
    "After building the three trees using the training set, we will calculate the accuracy on the test set. For each tree we will print the training and test accuracy. We will select the tree that gave us the best test accuracy. For the rest of the notebook, we will use that tree. "
   ]
  },
  {
   "cell_type": "code",
   "execution_count": 21,
   "metadata": {},
   "outputs": [
    {
     "name": "stdout",
     "output_type": "stream",
     "text": [
      "Accuracy of tree using gini on:\n",
      " - the test data = 77.4987690792713% \n",
      " - the train data  = 100.0%\n",
      "Accuracy of tree using entropy on:\n",
      " - the test data = 78.04037419990152% \n",
      " - the train data = 100.0%\n",
      "Accuracy of tree using entropy with gain ratio on:\n",
      " - the test data = 79.02511078286558% \n",
      " - the train data = 100.0%\n"
     ]
    }
   ],
   "source": [
    "print(f\"Accuracy of tree using gini on:\\n - the test data = {calc_accuracy(tree_gini,X_test)}% \" +\n",
    "      f\"\\n - the train data  = {calc_accuracy(tree_gini, X_train)}%\")\n",
    "\n",
    "print(f\"Accuracy of tree using entropy on:\\n - the test data = {calc_accuracy(tree_entropy, X_test)}% \" +\n",
    "      f\"\\n - the train data = {calc_accuracy(tree_entropy, X_train)}%\")\n",
    "      \n",
    "print(f\"Accuracy of tree using entropy with gain ratio on:\\n - the test data = {calc_accuracy(tree_entropy_gain_ratio,X_test)}% \" +\n",
    "      f\"\\n - the train data = {calc_accuracy(tree_entropy_gain_ratio, X_train)}%\")"
   ]
  },
  {
   "cell_type": "markdown",
   "metadata": {},
   "source": [
    "## Depth pruning\n",
    "\n",
    "Consider the following max_depth values: [1, 2, 3, 4, 5, 6, 7, 8]. For each value, we will construct a tree and prune it according to the max_depth value = we won't let the tree grow beyond this depth. Next, we will calculate the training and testing accuracy.<br>\n",
    "On a single plot, we will draw the training and testing accuracy as a function of the max_depth. We will mark the best result on the graph with red circle."
   ]
  },
  {
   "cell_type": "code",
   "execution_count": 22,
   "metadata": {},
   "outputs": [],
   "source": [
    "calc_accuracy_train_depth = []\n",
    "calc_accuracy_test_depth = []\n",
    "trees_depth_test = []  # saving test trees for later\n",
    "max_accuracy_test = [0, 0]\n",
    "max_depth_values = [1,2,3,4,5,6,7,8]\n",
    "for max_depth in max_depth_values: # iterating values\n",
    "    tree_entropy_gain_ratio = build_tree(data = X_train, impurity = calc_entropy, gain_ratio = True, max_depth = max_depth) # entropy and gain ratio\n",
    "    trees_depth_test.append(tree_entropy_gain_ratio)  # saving test trees for later\n",
    "    calc_tmp_train = calc_accuracy(tree_entropy_gain_ratio, X_train)\n",
    "    calc_tmp_test = calc_accuracy(tree_entropy_gain_ratio, X_test)\n",
    "    calc_accuracy_train_depth.append(calc_tmp_train)\n",
    "    calc_accuracy_test_depth.append(calc_tmp_test)\n",
    "    if calc_tmp_test > max_accuracy_test[1]: # saving max value\n",
    "        max_accuracy_test[0] = max_depth\n",
    "        max_accuracy_test[1] = calc_tmp_test"
   ]
  },
  {
   "cell_type": "code",
   "execution_count": 23,
   "metadata": {},
   "outputs": [
    {
     "data": {
      "image/png": "[encoded data removed]",
      "text/plain": [
       "<Figure size 720x576 with 1 Axes>"
      ]
     },
     "metadata": {
      "needs_background": "light"
     },
     "output_type": "display_data"
    }
   ],
   "source": [
    "plt.plot(max_depth_values, calc_accuracy_train_depth, label = \"train accuracy as a function of tree depth\")\n",
    "plt.plot(max_depth_values, calc_accuracy_test_depth, label = \"test accuracy as a function of tree depth\")\n",
    "plt.legend(loc='upper left')\n",
    "plt.xlabel('max depth')\n",
    "plt.ylabel('accuracy(%)')\n",
    "plt.title('accuracy as a function of tree depth')\n",
    "plt.xlim(1,10)\n",
    "plt.ylim(70,100)\n",
    "plt.plot(max_accuracy_test[0],max_accuracy_test[1], 'ro')\n",
    "plt.show()"
   ]
  },
  {
   "cell_type": "markdown",
   "metadata": {},
   "source": [
    "## Min Samples Split\n",
    "\n",
    "Consider the following min_samples_split values: [1, 5, 10, 20, 50]. For each value, we will construct a tree and prune it according to the min_samples_split value = we won't split a node if the number of sample in it is less or equal to the min_samples_split value. Next, we will calculate the training and testing accuracy.<br>\n",
    "On a single plot, we will draw the training and testing accuracy as a function of the min_samples_split. we will mark the best result on the graph with red circle."
   ]
  },
  {
   "cell_type": "code",
   "execution_count": 24,
   "metadata": {},
   "outputs": [],
   "source": [
    "calc_accuracy_train_split = []\n",
    "calc_accuracy_test_split = []\n",
    "trees_split_test = []  # saving test trees for later\n",
    "max_accuracy = [0, 0]\n",
    "min_samples_split_values = [1,5,10,20,50]\n",
    "for min_samples_split_value in min_samples_split_values:  # iterating values\n",
    "    tree_entropy_gain_ratio = build_tree(data = X_train, impurity=calc_entropy, gain_ratio=True, min_samples_split = min_samples_split_value) # entropy and gain ratio\n",
    "    trees_split_test.append(tree_entropy_gain_ratio)  # saving test trees for later\n",
    "    calc_tmp_train = calc_accuracy(tree_entropy_gain_ratio, X_train)\n",
    "    calc_tmp_test = calc_accuracy(tree_entropy_gain_ratio, X_test)\n",
    "    calc_accuracy_train_split.append(calc_tmp_train)\n",
    "    calc_accuracy_test_split.append(calc_tmp_test)\n",
    "    if calc_tmp_test > max_accuracy[1]: # saving max value\n",
    "        max_accuracy[0] = min_samples_split_value\n",
    "        max_accuracy[1] = calc_tmp_test\n",
    "        "
   ]
  },
  {
   "cell_type": "code",
   "execution_count": 25,
   "metadata": {
    "scrolled": true
   },
   "outputs": [
    {
     "data": {
      "image/png": "[encoded data removed]",
      "text/plain": [
       "<Figure size 720x576 with 1 Axes>"
      ]
     },
     "metadata": {
      "needs_background": "light"
     },
     "output_type": "display_data"
    }
   ],
   "source": [
    "plt.plot(min_samples_split_values, calc_accuracy_train_split, label = \"train accuracy as a function of tree min samples split\")\n",
    "plt.plot(min_samples_split_values, calc_accuracy_test_split, label = \"test accuracy as a function of tree min samples split \")\n",
    "plt.legend(loc='upper center')\n",
    "plt.xlabel('min samples split')\n",
    "plt.ylabel('accuracy(%)')\n",
    "plt.title('accuracy as a function of tree min samples split')\n",
    "plt.xlim(1,60)\n",
    "plt.ylim(78,100)\n",
    "plt.plot(max_accuracy[0],max_accuracy[1], 'ro')\n",
    "plt.show()"
   ]
  },
  {
   "cell_type": "markdown",
   "metadata": {},
   "source": [
    "Now we will build the best 2 trees:\n",
    "1. tree_max_depth - the best tree according to max_depth pruning\n",
    "1. tree_min_samples_split - the best tree according to min_samples_split pruning"
   ]
  },
  {
   "cell_type": "code",
   "execution_count": 26,
   "metadata": {},
   "outputs": [],
   "source": [
    "### using max_accuracy_test[0] as best max_depth and max_accuracy[0] for best min_samples_split\n",
    "tree_max_depth = build_tree(data = X_train, impurity = calc_entropy, gain_ratio = True, max_depth = max_accuracy_test[0])\n",
    "tree_min_samples_split = build_tree(data = X_train, impurity=calc_entropy, gain_ratio=True, min_samples_split = max_accuracy[0])"
   ]
  },
  {
   "cell_type": "markdown",
   "metadata": {},
   "source": [
    "## Number of Nodes\n",
    "\n",
    "This function counts_nodes prints the number of nodes in each tree."
   ]
  },
  {
   "cell_type": "code",
   "execution_count": 32,
   "metadata": {},
   "outputs": [],
   "source": [
    "def count_nodes(node):\n",
    "    \"\"\"\n",
    "    Count the number of node in a given tree\n",
    " \n",
    "    Input:\n",
    "    - node: a node in the decision tree.\n",
    " \n",
    "    Output: the number of node in the tree.\n",
    "    \"\"\"\n",
    "    if not node: # end of recursion\n",
    "        return 0\n",
    "    children = node.children.values() # get all child features\n",
    "    count = 1\n",
    "    for child in children: # iterate all children features\n",
    "        count += count_nodes(child)\n",
    "    return count"
   ]
  },
  {
   "cell_type": "code",
   "execution_count": 28,
   "metadata": {},
   "outputs": [
    {
     "name": "stdout",
     "output_type": "stream",
     "text": [
      "205\n",
      "349\n"
     ]
    }
   ],
   "source": [
    "print(count_nodes(tree_max_depth))\n",
    "print(count_nodes(tree_min_samples_split))"
   ]
  },
  {
   "cell_type": "markdown",
   "metadata": {},
   "source": [
    "## Print the tree\n",
    "\n",
    "Here we will print our tree in this example format:\n",
    "```\n",
    "[ROOT, feature=X0],\n",
    "  [X0=a, feature=X2]\n",
    "    [X2=c, leaf]: [{1.0: 10}]\n",
    "    [X2=d, leaf]: [{0.0: 10}]\n",
    "  [X0=y, feature=X5], \n",
    "    [X5=a, leaf]: [{1.0: 5}]\n",
    "    [X5=s, leaf]: [{0.0: 10}]\n",
    "  [X0=e, leaf]: [{0.0: 25, 1.0: 50}]\n",
    "```\n",
    "In each brackets:\n",
    "* The first argument is the parent feature with the value that led to current node\n",
    "* The second argument is the selected feature of the current node\n",
    "* If the current node is a leaf, you need to print also the labels and their counts"
   ]
  },
  {
   "cell_type": "code",
   "execution_count": 29,
   "metadata": {},
   "outputs": [],
   "source": [
    "def print_tree(node, depth=0, parent_feature='ROOT', feature_val='ROOT'):\n",
    "    '''\n",
    "    prints the tree according to the example above\n",
    "\n",
    "    Input:\n",
    "    - node: a node in the decision tree\n",
    "\n",
    "    This function has no return value\n",
    "    '''\n",
    "    if(parent_feature == 'ROOT'): # beginning with root \n",
    "        print(f\"[{parent_feature}, feature=X{node.feature}],\")\n",
    "    elif count_nodes(node) == 1: # printing for leaf\n",
    "        dict_label = {}\n",
    "        if node.count_pred:\n",
    "            pred_p = 0\n",
    "            if node.pred == 'e':\n",
    "                dict_label[1.0] = node.count_pred\n",
    "                pred_p = 1\n",
    "            else:\n",
    "                dict_label[0.0] = node.count_pred\n",
    "            if node.count_not_pred: \n",
    "                dict_label[1.0-pred_p] = node.count_not_pred\n",
    "        print(f\"[X{parent_feature}={feature_val}, leaf]: [{dict_label}]\")\n",
    "        return\n",
    "        \n",
    "    else:\n",
    "        print(f\"[X{parent_feature}={feature_val}, feature=X{node.feature}]\") # printing for node that is not leaf and not root\n",
    "        \n",
    "    for (branch,child) in node.children.items(): # recursion on all children\n",
    "        print(depth * \" \",end=' ')\n",
    "        print_tree(child, depth+1, node.feature,branch)"
   ]
  },
  {
   "cell_type": "markdown",
   "metadata": {},
   "source": [
    "Last, we will print the tree with the best test accuracy and with less than 50 nodes (from the two pruning methods)"
   ]
  },
  {
   "cell_type": "code",
   "execution_count": 31,
   "metadata": {},
   "outputs": [
    {
     "name": "stdout",
     "output_type": "stream",
     "text": [
      "[ROOT, feature=X4],\n",
      " [X4=a, leaf]: [{1.0: 273, 0.0: 31}]\n",
      " [X4=c, leaf]: [{0.0: 137, 1.0: 10}]\n",
      " [X4=f, leaf]: [{0.0: 1438, 1.0: 170}]\n",
      " [X4=l, leaf]: [{1.0: 272, 0.0: 27}]\n",
      " [X4=m, leaf]: [{0.0: 25, 1.0: 2}]\n",
      " [X4=n, leaf]: [{1.0: 2332, 0.0: 344}]\n",
      " [X4=p, leaf]: [{0.0: 175, 1.0: 8}]\n",
      " [X4=s, leaf]: [{0.0: 380, 1.0: 38}]\n",
      " [X4=y, leaf]: [{0.0: 382, 1.0: 49}]\n",
      "\n",
      "- Number of nodes = 10\n",
      "- Accuracy of tree = 88.52781880846874\n"
     ]
    }
   ],
   "source": [
    "best_test = [0, 0]  # array for best accuracy and best tree\n",
    "trees = trees_depth_test + trees_split_test  # array with all test trees\n",
    "accuracy = calc_accuracy_test_depth + calc_accuracy_test_split  # array with all test accuracy\n",
    "for index in range(len(accuracy)): \n",
    "    if count_nodes(trees[index]) < 50 and accuracy[index] > best_test[0]:  # checking if less then 50 nodes and best accuracy\n",
    "        best_test = [accuracy[index], trees[index]]\n",
    "        \n",
    "print_tree(best_test[1])\n",
    "\n",
    "print(f\"\\n- Number of nodes = {count_nodes(best_test[1])}\")\n",
    "print(f\"- Accuracy of tree = {best_test[0]}\")"
   ]
  },
  {
   "cell_type": "code",
   "execution_count": null,
   "metadata": {},
   "outputs": [],
   "source": []
  }
 ],
 "metadata": {
  "celltoolbar": "Create Assignment",
  "kernelspec": {
   "display_name": "Python 3 (ipykernel)",
   "language": "python",
   "name": "python3"
  },
  "language_info": {
   "codemirror_mode": {
    "name": "ipython",
    "version": 3
   },
   "file_extension": ".py",
   "mimetype": "text/x-python",
   "name": "python",
   "nbconvert_exporter": "python",
   "pygments_lexer": "ipython3",
   "version": "3.9.7"
  }
 },
 "nbformat": 4,
 "nbformat_minor": 4
}
